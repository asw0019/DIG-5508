{
 "nbformat": 4,
 "nbformat_minor": 2,
 "metadata": {
  "language_info": {
   "name": "python",
   "codemirror_mode": {
    "name": "ipython",
    "version": 3
   },
   "version": "3.7.4"
  },
  "orig_nbformat": 2,
  "file_extension": ".py",
  "mimetype": "text/x-python",
  "name": "python",
  "npconvert_exporter": "python",
  "pygments_lexer": "ipython3",
  "version": 3
 },
 "cells": [
  {
   "cell_type": "code",
   "execution_count": 27,
   "metadata": {},
   "outputs": [
    {
     "data": {
      "text/plain": "6"
     },
     "execution_count": 27,
     "metadata": {},
     "output_type": "execute_result"
    }
   ],
   "source": [
    "# Exercise 7-5: Factorial mashup\n",
    "def factorial(n):\n",
    "    answer = 1\n",
    "    for num in range(1, n + 1):\n",
    "        answer = answer * num\n",
    "    return answer\n",
    "\n",
    "def fact(n):\n",
    "    if n == 0:\n",
    "        return 1\n",
    "    if n < 0:\n",
    "        raise ValueError\n",
    "    else:\n",
    "        return n * factorial(n - 1)\n",
    "fact(3)\n",
    "# It seems like this correctly computes factorials when calling a different function.\n",
    "# I was not quite aware that you could call a function wwithin another function.\n",
    "# However, I suppose it makes sense--the function itself is not exclusive to another function."
   ]
  },
  {
   "cell_type": "code",
   "execution_count": null,
   "metadata": {},
   "outputs": [],
   "source": []
  }
 ]
}