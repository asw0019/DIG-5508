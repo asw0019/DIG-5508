{
 "nbformat": 4,
 "nbformat_minor": 2,
 "metadata": {
  "language_info": {
   "name": "python",
   "codemirror_mode": {
    "name": "ipython",
    "version": 3
   }
  },
  "orig_nbformat": 2,
  "file_extension": ".py",
  "mimetype": "text/x-python",
  "name": "python",
  "npconvert_exporter": "python",
  "pygments_lexer": "ipython3",
  "version": 3
 },
 "cells": [
  {
   "cell_type": "code",
   "execution_count": 56,
   "metadata": {},
   "outputs": [],
   "source": [
    "#For Free Project 2, I chose 11-1: \"Image Manipulation as You Like It.\" I decided to crop an image. I like that it provides a very clear way to switch up where you wish to start the cropping.\n",
    "\n",
    "#I found a function from https://www.geeksforgeeks.org/working-images-python/ and modified it slightly--I gave the user the ability to pass all four sides of the desired crop area for more freedom over what is cropped.\n",
    "\n",
    "from PIL import Image\n",
    "\n",
    "#This function takes five arguments--the image and the four boundaries of where you want cropped on the image.\n",
    "def crop(original, a,b,c,d):\n",
    "    try:\n",
    "# An image is opened.\n",
    "        img = Image.open(original)\n",
    "# The variables width and height are stored in img.size.\n",
    "        width, height = img.size\n",
    "# The variable area is stored as the last four arguments--the ends of\n",
    "# where you want the cropping to be.\n",
    "        area = (a,b,c,d)\n",
    "# The crop function is applied to the image, using the passed arguments.\n",
    "        img = img.crop(area)\n",
    "# The newly cropped image is saved to the repository.\n",
    "        img.save(\"cropped.png\")\n",
    "# If there is an error with input or output (cropping outside of original image),\n",
    "# the function is skipped.\n",
    "    except IOError:\n",
    "        pass\n",
    "# Finally, calling the function using a picture I took.\n",
    "crop('klownz.jpg', 10,10,500,500)\n"
   ]
  },
  {
   "cell_type": "code",
   "execution_count": null,
   "metadata": {},
   "outputs": [],
   "source": []
  },
  {
   "cell_type": "code",
   "execution_count": null,
   "metadata": {},
   "outputs": [],
   "source": []
  }
 ]
}