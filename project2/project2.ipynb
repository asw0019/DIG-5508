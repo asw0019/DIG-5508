{
 "nbformat": 4,
 "nbformat_minor": 2,
 "metadata": {
  "language_info": {
   "name": "python",
   "codemirror_mode": {
    "name": "ipython",
    "version": 3
   }
  },
  "orig_nbformat": 2,
  "file_extension": ".py",
  "mimetype": "text/x-python",
  "name": "python",
  "npconvert_exporter": "python",
  "pygments_lexer": "ipython3",
  "version": 3
 },
 "cells": [
  {
   "cell_type": "code",
   "execution_count": 56,
   "metadata": {},
   "outputs": [],
   "source": [
    "#For Free Project 2, I chose 11-1: \"Image Manipulation as You Like It.\" I decided to crop an image. I like that it provides a very clear way to switch up where you wish to start the cropping.\n",
    "\n",
    "from PIL import Image\n",
    "\n",
    "def crop(original, a,b,c,d):\n",
    "    try:\n",
    "        img = Image.open(original)\n",
    "        width, height = img.size\n",
    "\n",
    "        area = (a,b,c,d)\n",
    "        img = img.crop(area)\n",
    "        img.save(\"cropped.png\")\n",
    "    except IOError:\n",
    "        pass\n",
    "crop('klownz.jpg', 10,10,500,500)\n"
   ]
  },
  {
   "cell_type": "code",
   "execution_count": null,
   "metadata": {},
   "outputs": [],
   "source": []
  },
  {
   "cell_type": "code",
   "execution_count": null,
   "metadata": {},
   "outputs": [],
   "source": []
  }
 ]
}