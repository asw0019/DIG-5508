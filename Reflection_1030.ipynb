{
 "nbformat": 4,
 "nbformat_minor": 2,
 "metadata": {
  "language_info": {
   "name": "python",
   "codemirror_mode": {
    "name": "ipython",
    "version": 3
   }
  },
  "orig_nbformat": 2,
  "file_extension": ".py",
  "mimetype": "text/x-python",
  "name": "python",
  "npconvert_exporter": "python",
  "pygments_lexer": "ipython3",
  "version": 3
 },
 "cells": [
  {
   "cell_type": "code",
   "execution_count": null,
   "metadata": {},
   "outputs": [],
   "source": []
  },
  {
   "cell_type": "code",
   "execution_count": 47,
   "metadata": {},
   "outputs": [
    {
     "data": {
      "text/plain": "10200000.0"
     },
     "execution_count": 47,
     "metadata": {},
     "output_type": "execute_result"
    }
   ],
   "source": [
    "from PIL import Image\n",
    "square = Image.new('RGBA', (200,200), (255,0,0,255))\n",
    "def redness(square):\n",
    "    s = square.size[0]\n",
    "    t = square.size[1]\n",
    "    all_red = 0\n",
    "    others = 0\n",
    "    for x in range(s):\n",
    "        for y in range(t):\n",
    "            red, green, blue, alpha = square.getpixel((x, y))\n",
    "            all_red = all_red + red\n",
    "            others = others + green + blue\n",
    "    return all_red - (others / 2)\n",
    "redness(square)"
   ]
  },
  {
   "cell_type": "code",
   "execution_count": null,
   "metadata": {},
   "outputs": [],
   "source": []
  }
 ]
}